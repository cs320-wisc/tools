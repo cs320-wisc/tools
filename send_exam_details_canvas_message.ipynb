{
 "cells": [
  {
   "cell_type": "code",
   "execution_count": null,
   "id": "b7729270",
   "metadata": {},
   "outputs": [],
   "source": [
    "import requests\n",
    "import json\n",
    "import sys"
   ]
  },
  {
   "cell_type": "code",
   "execution_count": null,
   "id": "fe0e22cc",
   "metadata": {},
   "outputs": [],
   "source": [
    "################################################################################\n",
    "# Canvas login and course specific details\n",
    "################################################################################\n",
    "\n",
    "# Canvas API URL\n",
    "API_URL = \"https://canvas.wisc.edu/api/v1\"\n",
    "\n",
    "# Canvas API key - TODO enter your API key information here\n",
    "# Please follow the steps for generating canvas API token\n",
    "API_KEY = \"HERE IS WHERE YOUR API KEY GOES\"\n",
    "\n",
    "# Canvas course number - TODO update this for your course\n",
    "canvas_course = 322078\n",
    "################################################################################\n",
    "\n",
    "\n",
    "# Get the list of students and their canvas IDs to send the personal message\n",
    "url = API_URL + \"/courses/\" + str(canvas_course) + \"/students\"\n",
    "headers = {'Authorization': \"Bearer \" + API_KEY}\n",
    "r = requests.get(url, headers = headers)\n",
    "response_json = r.json()"
   ]
  },
  {
   "cell_type": "code",
   "execution_count": null,
   "id": "eab09b56",
   "metadata": {},
   "outputs": [],
   "source": [
    "# Dict to keep track of wiscemail to canvas ID, name mapping\n",
    "student_dict = {} # Key: wisc email; Value: dict containing canvas ID and student name\n",
    "for student in response_json:\n",
    "    wisc_email = student[\"login_id\"].lower()\n",
    "    name_parts = student[\"name\"].split()\n",
    "    first_name = name_parts[0]\n",
    "    last_name = \" \".join(name_parts[1:])\n",
    "    if first_name == \"Test\":\n",
    "        continue\n",
    "    if wisc_email not in student_dict:\n",
    "        student_dict[wisc_email] = {\"canvas_id\": student[\"id\"], \"first name\": first_name}\n",
    "\n",
    "# student_dict"
   ]
  },
  {
   "cell_type": "code",
   "execution_count": null,
   "id": "1e7b2053",
   "metadata": {},
   "outputs": [],
   "source": [
    "print(\"Total number of students:\", len(student_dict))"
   ]
  },
  {
   "cell_type": "code",
   "execution_count": null,
   "id": "28402db7",
   "metadata": {},
   "outputs": [],
   "source": [
    "# Get user input for exam number\n",
    "exam_name = input(\"Enter exam name: exam1 or exam2 or final: \")"
   ]
  },
  {
   "cell_type": "code",
   "execution_count": null,
   "id": "9b8180bd",
   "metadata": {},
   "outputs": [],
   "source": [
    "def read_json(path):\n",
    "    with open(path, encoding = \"utf-8\") as f:\n",
    "        return json.load(f)"
   ]
  },
  {
   "cell_type": "code",
   "execution_count": null,
   "id": "b998f0ad",
   "metadata": {},
   "outputs": [],
   "source": [
    "roster = read_json(\"{}_roster.json\".format(exam_name))\n",
    "                   \n",
    "for student in roster:\n",
    "    if student[\"enrolled\"]:\n",
    "        information = student[exam_name]\n",
    "        email = student[\"email\"]\n",
    "        if email not in student_dict:\n",
    "            print(\"PROBLEM: couldn't find student on canvas\", student[\"name\"])\n",
    "        else:\n",
    "            student_dict[email][exam_name] = information\n",
    "            student_dict[email][\"lecture\"] = str(student[\"section\"])"
   ]
  },
  {
   "cell_type": "code",
   "execution_count": null,
   "id": "f57380b3",
   "metadata": {},
   "outputs": [],
   "source": [
    "# Uncomment to see student dictionary \n",
    "#student_dict"
   ]
  },
  {
   "cell_type": "code",
   "execution_count": null,
   "id": "fa87b20b",
   "metadata": {},
   "outputs": [],
   "source": [
    "# Assumes that one instructor teaches two sections\n",
    "# If that changes, this cell's code requires an update \n",
    "# (Below conditional using first_lecture & second_lecture should be re-written)\n",
    "\n",
    "first_lecture = input(\"Enter you first lecture number (enter 1 or 2 or 3 etc.,): \")\n",
    "second_lecture = input(\"Enter you second lecture number (enter 1 or 2 or 3 etc.,): \")\n",
    "lecture_list = [\"1\", \"2\", \"3\", \"4\", \"5\", \"6\"]\n",
    "\n",
    "if first_lecture not in lecture_list or second_lecture not in lecture_list:\n",
    "    print(\"Please enter proper input for lecture number (enter 1 or 2 or 3 etc.,). \\\n",
    "    Re-run this cell and provide proper input.\")\n",
    "else:\n",
    "    # Send out the canvas messages\n",
    "    for student_email in student_dict:\n",
    "        first_name = student_dict[student_email][\"first name\"]\n",
    "        information = student_dict[student_email][exam_name]\n",
    "        section = student_dict[student_email][\"lecture\"]\n",
    "        if section != first_lecture and section != second_lecture:\n",
    "            # Skipping other lectures processing\n",
    "            continue\n",
    "        canvas_id = student_dict[student_email][\"canvas_id\"]\n",
    "        title = exam_name.upper() + ' information'\n",
    "        message = 'Dear {}, Here are your {} details: {}. - CS220 instructors'\\\n",
    "        .format(first_name, exam_name, information)\n",
    "        payload = { \n",
    "                   'recipients' : [canvas_id], # canvas user_id\n",
    "                   'subject' : title,\n",
    "                   'body' : message,\n",
    "                   'force_new' : True,\n",
    "                   'context_code' : 'course_' + str(canvas_course) # if it's associated with a course\n",
    "                  }\n",
    "        \n",
    "        # UNCOMMENT THE BELOW LINES TO SEND CANVAS MESSAGE\n",
    "        #convo = requests.post(API_URL + \"/conversations\", headers = headers, data = payload)\n",
    "        #convo.raise_for_status()\n",
    "        print(\"Message sent to {}: {}\".format(first_name, message))"
   ]
  },
  {
   "cell_type": "code",
   "execution_count": null,
   "id": "8bb3e250",
   "metadata": {},
   "outputs": [],
   "source": []
  }
 ],
 "metadata": {
  "kernelspec": {
   "display_name": "Python 3 (ipykernel)",
   "language": "python",
   "name": "python3"
  },
  "language_info": {
   "codemirror_mode": {
    "name": "ipython",
    "version": 3
   },
   "file_extension": ".py",
   "mimetype": "text/x-python",
   "name": "python",
   "nbconvert_exporter": "python",
   "pygments_lexer": "ipython3",
   "version": "3.10.6"
  }
 },
 "nbformat": 4,
 "nbformat_minor": 5
}
