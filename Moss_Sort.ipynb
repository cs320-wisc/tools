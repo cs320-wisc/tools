{
 "cells": [
  {
   "cell_type": "markdown",
   "metadata": {},
   "source": [
    "## A tool for sorting MOSS results\n",
    "* Replace `my_url` in the first cell with the url of the results from MOSS server\n",
    "* `Moss_Sorted.html` will be created that contains the sorted results based on maximum matched percent in the first two columns. "
   ]
  },
  {
   "cell_type": "code",
   "execution_count": 150,
   "metadata": {},
   "outputs": [],
   "source": [
    "from bs4 import BeautifulSoup\n",
    "import requests as rq\n",
    "import pandas as pd\n",
    "\n",
    "my_url=\"my_url\"\n",
    "pg1=rq.get(my_url)\n",
    "page_1=BeautifulSoup(pg1.text,'html.parser')\n",
    "my_df=pd.read_html(pg1.text)[0] #contains the table from original MOSS results\n",
    "\n",
    "table = page_1.find('table')\n",
    "links = []\n",
    "\n",
    "#taken and modified from https://stackoverflow.com/questions/56757261/extract-href-using-pandas-read-html\n",
    "for tr in table.findAll(\"tr\"):\n",
    "    trs = tr.findAll(\"td\")\n",
    "    link1=[]\n",
    "    for each in trs:\n",
    "        try:\n",
    "            link = each.find('a')['href']\n",
    "            #print(link)\n",
    "            link1.append(link)\n",
    "        except:\n",
    "            pass\n",
    "    links.append(link1)\n",
    "\n",
    "\n",
    "links=links[1:]\n",
    "final_links=[link[0] for link in links] #contains one link per row \n",
    "my_df[\"Link\"]=final_links #adds links column to the data fram\n",
    "#print(final_links)\n",
    "\n",
    "for index,row in my_df.iterrows():\n",
    "    a=row[\"File 1\"].split(\" \")[1].split(\"%\")[0].split(\"(\")[1]\n",
    "    b=row[\"File 2\"].split(\" \")[1].split(\"%\")[0].split(\"(\")[1]\n",
    "    my_df.loc[index,\"Max_Percent\"]=max(int(a),int(b)) #adds a column for max_percent\n",
    "\n",
    "my_df=my_df.sort_values(by=[\"Max_Percent\"],ascending=False)#sort based on max percent\n",
    "\n",
    "#The function is taken and modefied from https://discuss.streamlit.io/t/display-urls-in-dataframe-column-as-a-clickable-hyperlink/743/4\n",
    "def make_clickable(link):\n",
    "    text = link.split('/')[-1]\n",
    "    return f'<a target=\"_blank\" href=\"{link}\">{text}</a>' #puts each link in <a> tag so that the converted version to html looks like a link\n",
    "\n",
    "for index,row in my_df.iterrows():\n",
    "    a=make_clickable(row[\"Link\"])\n",
    "    my_df.loc[index,\"Link\"]=a #puts each link in <a> tag so that the converted version to html looks like a link\n",
    "md_df1=my_df.to_html('Moss_Sorted.html',escape=False) #export the data frame to an html file\n"
   ]
  }
 ],
 "metadata": {
  "kernelspec": {
   "display_name": "Python 3",
   "language": "python",
   "name": "python3"
  },
  "language_info": {
   "codemirror_mode": {
    "name": "ipython",
    "version": 3
   },
   "file_extension": ".py",
   "mimetype": "text/x-python",
   "name": "python",
   "nbconvert_exporter": "python",
   "pygments_lexer": "ipython3",
   "version": "3.6.9"
  }
 },
 "nbformat": 4,
 "nbformat_minor": 4
}
