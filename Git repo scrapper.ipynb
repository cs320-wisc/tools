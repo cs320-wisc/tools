{
 "cells": [
  {
   "cell_type": "code",
   "execution_count": 6,
   "id": "429d943f",
   "metadata": {},
   "outputs": [],
   "source": [
    "#need to update third element to corresponding semester\n",
    "targets = {\"320\", \"data programming\", \"s22\", \"p1\", \"p2\", \"p3\", \"p4\", \"p5\", \"p6\", \"p7\", \"project\"}\n",
    "def match(repo): \n",
    "    repo = repo.lower()\n",
    "    if (repo.find(\"cs320-lab2\") == -1 and repo.find(\"cs320_lab2\") == -1):\n",
    "        for word in targets: \n",
    "            if repo.find(word) != -1: \n",
    "                return repo"
   ]
  },
  {
   "cell_type": "code",
   "execution_count": 7,
   "id": "cbda27db",
   "metadata": {},
   "outputs": [],
   "source": [
    "import pandas\n",
    "from github import Github\n",
    "\n",
    "usernames = pandas.read_csv(\"github.csv\") #first upload github.csv file with past semesters info to current directory\n",
    "g = Github(\"\") # add your OAuth token here, use link below to create\n",
    "#https://docs.github.com/en/authentication/keeping-your-account-and-data-secure/creating-a-personal-access-token"
   ]
  },
  {
   "cell_type": "code",
   "execution_count": 8,
   "id": "1187482c",
   "metadata": {},
   "outputs": [],
   "source": [
    "#old approach, only looks at repository names and not the content\n",
    "not_found = []\n",
    "suspect = []\n",
    "\n",
    "for username in usernames['What is your GitHub username?']: \n",
    "    try:\n",
    "        user = g.get_user(username)\n",
    "        for repo in user.get_repos():\n",
    "            mat = match(repo.full_name)\n",
    "            if mat is not None: \n",
    "                suspect.append(mat)\n",
    "    except: \n",
    "        not_found.append(username)"
   ]
  },
  {
   "cell_type": "code",
   "execution_count": 3,
   "id": "beb15580",
   "metadata": {},
   "outputs": [],
   "source": [
    "#new improved approach, looks at repo name then opens repo looking for notebook files following our submittion naming convention\n",
    "class Found(Exception): pass\n",
    "not_found = []\n",
    "suspect = []\n",
    "projects = [\"p1.ipynb\",\"p2.ipynb\",\"p3.ipynb\",\"p4.ipynb\",\"p5.ipynb\",\"p6.ipynb\",\"p7.ipynb\"]\n",
    "for username in usernames['What is your GitHub username?']: \n",
    "    try:\n",
    "        user = g.get_user(username)\n",
    "        for repo in user.get_repos():\n",
    "            mat = match(repo.full_name)\n",
    "            if mat is not None:\n",
    "                try:\n",
    "                    #get repo content from root directory\n",
    "                    contents  = repo.get_contents(\"\")\n",
    "                    while contents:\n",
    "                        file_content = contents.pop(0)\n",
    "                        if file_content.type == \"dir\": #checks if directory\n",
    "                            contents.extend(repo.get_contents(file_content.path)) #opens directory\n",
    "                        else:\n",
    "                            for project in projects:\n",
    "                                if file_content.path.endswith(project):\n",
    "                                    suspect.append(mat)\n",
    "                                    raise Found\n",
    "                except Found:\n",
    "                    break\n",
    "                except:\n",
    "                    pass\n",
    "    except: \n",
    "        not_found.append(username)"
   ]
  },
  {
   "cell_type": "code",
   "execution_count": 4,
   "id": "54f38af0",
   "metadata": {},
   "outputs": [
    {
     "name": "stdout",
     "output_type": "stream",
     "text": [
      "['howardxl', 'annamelnyk4@gmail.com', 'jinacho', 'eric970412', 'piettec', 'gervolino']\n"
     ]
    }
   ],
   "source": [
    "print(not_found)"
   ]
  },
  {
   "cell_type": "code",
   "execution_count": 5,
   "id": "46ada88e",
   "metadata": {},
   "outputs": [],
   "source": [
    "#writes output to file\n",
    "outputfile = open('githubResults.txt', 'w')\n",
    "for i in suspect: \n",
    "    outputfile.write(\"https://github.com/\" + i + \"\\n\")\n",
    "outputfile.close()"
   ]
  }
 ],
 "metadata": {
  "kernelspec": {
   "display_name": "Python 3 (ipykernel)",
   "language": "python",
   "name": "python3"
  },
  "language_info": {
   "codemirror_mode": {
    "name": "ipython",
    "version": 3
   },
   "file_extension": ".py",
   "mimetype": "text/x-python",
   "name": "python",
   "nbconvert_exporter": "python",
   "pygments_lexer": "ipython3",
   "version": "3.10.2"
  }
 },
 "nbformat": 4,
 "nbformat_minor": 5
}
