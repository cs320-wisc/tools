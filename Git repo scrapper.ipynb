{
 "cells": [
  {
   "cell_type": "code",
   "execution_count": null,
   "id": "429d943f",
   "metadata": {},
   "outputs": [],
   "source": [
    "targets = {\"320\", \"data programming\", \"f21\", \"p1\", \"p2\", \"p3\", \"p4\", \"p5\", \"p6\", \"p7\", \"project\"}\n",
    "def match(repo): \n",
    "    repo = repo.lower()\n",
    "    if repo.find(\"cs320-lab2\") == -1:\n",
    "        for word in targets: \n",
    "            if repo.find(word) != -1: \n",
    "                return repo"
   ]
  },
  {
   "cell_type": "code",
   "execution_count": null,
   "id": "58def7b6",
   "metadata": {},
   "outputs": [],
   "source": [
    "import pandas \n",
    "from github import Github\n",
    "\n",
    "usernames = pandas.read_csv(\"github.csv\")\n",
    "\n",
    "g = Github() # add your OAuth token here\n",
    "\n",
    "not_found = []\n",
    "suspect = []\n",
    "\n",
    "for username in usernames['What is your GitHub username?']: \n",
    "    try: \n",
    "        user = g.get_user(username)\n",
    "        for repo in user.get_repos():\n",
    "            mat = match(repo.full_name)\n",
    "            if mat is not None: \n",
    "                suspect.append(mat)\n",
    "    except: \n",
    "        not_found.append(username)"
   ]
  },
  {
   "cell_type": "code",
   "execution_count": null,
   "id": "e84af2cd",
   "metadata": {},
   "outputs": [],
   "source": [
    "print(not_found)"
   ]
  },
  {
   "cell_type": "code",
   "execution_count": null,
   "id": "ca500d6d",
   "metadata": {},
   "outputs": [],
   "source": [
    "for i in suspect: \n",
    "    print(\"https://github.com/\" + i)"
   ]
  }
 ],
 "metadata": {
  "kernelspec": {
   "display_name": "Python 3 (ipykernel)",
   "language": "python",
   "name": "python3"
  },
  "language_info": {
   "codemirror_mode": {
    "name": "ipython",
    "version": 3
   },
   "file_extension": ".py",
   "mimetype": "text/x-python",
   "name": "python",
   "nbconvert_exporter": "python",
   "pygments_lexer": "ipython3",
   "version": "3.9.7"
  }
 },
 "nbformat": 4,
 "nbformat_minor": 5
}
